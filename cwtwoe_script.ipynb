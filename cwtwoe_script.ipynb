{
 "cells": [
  {
   "cell_type": "code",
   "execution_count": 1,
   "metadata": {},
   "outputs": [
    {
     "name": "stderr",
     "output_type": "stream",
     "text": [
      "/Library/Frameworks/Python.framework/Versions/2.7/lib/python2.7/site-packages/scipy/sparse/lil.py:19: RuntimeWarning: numpy.dtype size changed, may indicate binary incompatibility. Expected 96, got 88\n",
      "  from . import _csparsetools\n",
      "/Library/Frameworks/Python.framework/Versions/2.7/lib/python2.7/site-packages/scipy/sparse/csgraph/__init__.py:165: RuntimeWarning: numpy.dtype size changed, may indicate binary incompatibility. Expected 96, got 88\n",
      "  from ._shortest_path import shortest_path, floyd_warshall, dijkstra,\\\n",
      "/Library/Frameworks/Python.framework/Versions/2.7/lib/python2.7/site-packages/scipy/sparse/csgraph/_validation.py:5: RuntimeWarning: numpy.dtype size changed, may indicate binary incompatibility. Expected 96, got 88\n",
      "  from ._tools import csgraph_to_dense, csgraph_from_dense,\\\n",
      "/Library/Frameworks/Python.framework/Versions/2.7/lib/python2.7/site-packages/scipy/sparse/csgraph/__init__.py:167: RuntimeWarning: numpy.dtype size changed, may indicate binary incompatibility. Expected 96, got 88\n",
      "  from ._traversal import breadth_first_order, depth_first_order, \\\n",
      "/Library/Frameworks/Python.framework/Versions/2.7/lib/python2.7/site-packages/scipy/sparse/csgraph/__init__.py:169: RuntimeWarning: numpy.dtype size changed, may indicate binary incompatibility. Expected 96, got 88\n",
      "  from ._min_spanning_tree import minimum_spanning_tree\n",
      "/Library/Frameworks/Python.framework/Versions/2.7/lib/python2.7/site-packages/scipy/sparse/csgraph/__init__.py:170: RuntimeWarning: numpy.dtype size changed, may indicate binary incompatibility. Expected 96, got 88\n",
      "  from ._reordering import reverse_cuthill_mckee, maximum_bipartite_matching, \\\n",
      "/Library/Frameworks/Python.framework/Versions/2.7/lib/python2.7/site-packages/sklearn/utils/__init__.py:9: RuntimeWarning: numpy.dtype size changed, may indicate binary incompatibility. Expected 96, got 88\n",
      "  from .murmurhash import murmurhash3_32\n",
      "/Library/Frameworks/Python.framework/Versions/2.7/lib/python2.7/site-packages/scipy/linalg/basic.py:17: RuntimeWarning: numpy.dtype size changed, may indicate binary incompatibility. Expected 96, got 88\n",
      "  from ._solve_toeplitz import levinson\n",
      "/Library/Frameworks/Python.framework/Versions/2.7/lib/python2.7/site-packages/scipy/linalg/__init__.py:207: RuntimeWarning: numpy.dtype size changed, may indicate binary incompatibility. Expected 96, got 88\n",
      "  from ._decomp_update import *\n",
      "/Library/Frameworks/Python.framework/Versions/2.7/lib/python2.7/site-packages/scipy/special/__init__.py:640: RuntimeWarning: numpy.dtype size changed, may indicate binary incompatibility. Expected 96, got 88\n",
      "  from ._ufuncs import *\n",
      "/Library/Frameworks/Python.framework/Versions/2.7/lib/python2.7/site-packages/scipy/special/_ellip_harm.py:7: RuntimeWarning: numpy.dtype size changed, may indicate binary incompatibility. Expected 96, got 88\n",
      "  from ._ellip_harm_2 import _ellipsoid, _ellipsoid_norm\n",
      "/Library/Frameworks/Python.framework/Versions/2.7/lib/python2.7/site-packages/scipy/signal/_max_len_seq.py:8: RuntimeWarning: numpy.dtype size changed, may indicate binary incompatibility. Expected 96, got 88\n",
      "  from ._max_len_seq_inner import _max_len_seq_inner\n",
      "/Library/Frameworks/Python.framework/Versions/2.7/lib/python2.7/site-packages/scipy/signal/_upfirdn.py:36: RuntimeWarning: numpy.dtype size changed, may indicate binary incompatibility. Expected 96, got 88\n",
      "  from ._upfirdn_apply import _output_len, _apply\n",
      "/Library/Frameworks/Python.framework/Versions/2.7/lib/python2.7/site-packages/scipy/optimize/_trlib/__init__.py:1: RuntimeWarning: numpy.dtype size changed, may indicate binary incompatibility. Expected 96, got 88\n",
      "  from ._trlib import TRLIBQuadraticSubproblem\n",
      "/Library/Frameworks/Python.framework/Versions/2.7/lib/python2.7/site-packages/scipy/optimize/_numdiff.py:10: RuntimeWarning: numpy.dtype size changed, may indicate binary incompatibility. Expected 96, got 88\n",
      "  from ._group_columns import group_dense, group_sparse\n",
      "/Library/Frameworks/Python.framework/Versions/2.7/lib/python2.7/site-packages/scipy/interpolate/_bsplines.py:10: RuntimeWarning: numpy.dtype size changed, may indicate binary incompatibility. Expected 96, got 88\n",
      "  from . import _bspl\n",
      "/Library/Frameworks/Python.framework/Versions/2.7/lib/python2.7/site-packages/scipy/spatial/__init__.py:95: RuntimeWarning: numpy.dtype size changed, may indicate binary incompatibility. Expected 96, got 88\n",
      "  from .ckdtree import *\n",
      "/Library/Frameworks/Python.framework/Versions/2.7/lib/python2.7/site-packages/scipy/spatial/__init__.py:96: RuntimeWarning: numpy.dtype size changed, may indicate binary incompatibility. Expected 96, got 88\n",
      "  from .qhull import *\n",
      "/Library/Frameworks/Python.framework/Versions/2.7/lib/python2.7/site-packages/scipy/spatial/_spherical_voronoi.py:18: RuntimeWarning: numpy.dtype size changed, may indicate binary incompatibility. Expected 96, got 88\n",
      "  from . import _voronoi\n",
      "/Library/Frameworks/Python.framework/Versions/2.7/lib/python2.7/site-packages/scipy/spatial/distance.py:122: RuntimeWarning: numpy.dtype size changed, may indicate binary incompatibility. Expected 96, got 88\n",
      "  from . import _hausdorff\n",
      "/Library/Frameworks/Python.framework/Versions/2.7/lib/python2.7/site-packages/scipy/ndimage/measurements.py:36: RuntimeWarning: numpy.dtype size changed, may indicate binary incompatibility. Expected 96, got 88\n",
      "  from . import _ni_label\n",
      "/Library/Frameworks/Python.framework/Versions/2.7/lib/python2.7/site-packages/scipy/signal/spectral.py:10: RuntimeWarning: numpy.dtype size changed, may indicate binary incompatibility. Expected 96, got 88\n",
      "  from ._spectral import _lombscargle\n",
      "/Library/Frameworks/Python.framework/Versions/2.7/lib/python2.7/site-packages/scipy/stats/_continuous_distns.py:18: RuntimeWarning: numpy.dtype size changed, may indicate binary incompatibility. Expected 96, got 88\n",
      "  from . import _stats\n",
      "/Library/Frameworks/Python.framework/Versions/2.7/lib/python2.7/site-packages/scipy/signal/_peak_finding.py:13: RuntimeWarning: numpy.dtype size changed, may indicate binary incompatibility. Expected 96, got 88\n",
      "  from ._peak_finding_utils import (_argmaxima1d, _select_by_peak_distance,\n",
      "/Library/Frameworks/Python.framework/Versions/2.7/lib/python2.7/site-packages/scipy/io/matlab/mio4.py:18: RuntimeWarning: numpy.dtype size changed, may indicate binary incompatibility. Expected 96, got 88\n",
      "  from .mio_utils import squeeze_element, chars_to_strings\n",
      "/Library/Frameworks/Python.framework/Versions/2.7/lib/python2.7/site-packages/scipy/io/matlab/mio5.py:98: RuntimeWarning: numpy.dtype size changed, may indicate binary incompatibility. Expected 96, got 88\n",
      "  from .mio5_utils import VarReader5\n",
      "/Library/Frameworks/Python.framework/Versions/2.7/lib/python2.7/site-packages/sklearn/feature_extraction/hashing.py:10: RuntimeWarning: numpy.dtype size changed, may indicate binary incompatibility. Expected 96, got 88\n",
      "  from . import _hashing\n",
      "/Library/Frameworks/Python.framework/Versions/2.7/lib/python2.7/site-packages/sklearn/utils/extmath.py:24: RuntimeWarning: numpy.dtype size changed, may indicate binary incompatibility. Expected 96, got 88\n",
      "  from ._logistic_sigmoid import _log_logistic_sigmoid\n",
      "/Library/Frameworks/Python.framework/Versions/2.7/lib/python2.7/site-packages/sklearn/utils/extmath.py:26: RuntimeWarning: numpy.dtype size changed, may indicate binary incompatibility. Expected 96, got 88\n",
      "  from .sparsefuncs_fast import csr_row_norms\n",
      "/Library/Frameworks/Python.framework/Versions/2.7/lib/python2.7/site-packages/sklearn/utils/random.py:10: RuntimeWarning: numpy.dtype size changed, may indicate binary incompatibility. Expected 96, got 88\n",
      "  from ._random import sample_without_replacement\n",
      "/Library/Frameworks/Python.framework/Versions/2.7/lib/python2.7/site-packages/sklearn/datasets/svmlight_format.py:25: RuntimeWarning: numpy.dtype size changed, may indicate binary incompatibility. Expected 96, got 88\n",
      "  from ._svmlight_format import _load_svmlight_file\n",
      "/Library/Frameworks/Python.framework/Versions/2.7/lib/python2.7/site-packages/sklearn/metrics/cluster/supervised.py:23: RuntimeWarning: numpy.dtype size changed, may indicate binary incompatibility. Expected 96, got 88\n",
      "  from .expected_mutual_info_fast import expected_mutual_information\n",
      "/Library/Frameworks/Python.framework/Versions/2.7/lib/python2.7/site-packages/sklearn/metrics/pairwise.py:30: RuntimeWarning: numpy.dtype size changed, may indicate binary incompatibility. Expected 96, got 88\n",
      "  from .pairwise_fast import _chi2_kernel_fast, _sparse_manhattan\n",
      "/Library/Frameworks/Python.framework/Versions/2.7/lib/python2.7/site-packages/sklearn/neighbors/__init__.py:6: RuntimeWarning: numpy.dtype size changed, may indicate binary incompatibility. Expected 96, got 88\n",
      "  from .ball_tree import BallTree\n",
      "/Library/Frameworks/Python.framework/Versions/2.7/lib/python2.7/site-packages/sklearn/neighbors/__init__.py:7: RuntimeWarning: numpy.dtype size changed, may indicate binary incompatibility. Expected 96, got 88\n",
      "  from .kd_tree import KDTree\n"
     ]
    },
    {
     "name": "stderr",
     "output_type": "stream",
     "text": [
      "/Library/Frameworks/Python.framework/Versions/2.7/lib/python2.7/site-packages/sklearn/linear_model/base.py:35: RuntimeWarning: numpy.dtype size changed, may indicate binary incompatibility. Expected 96, got 88\n",
      "  from ..utils.seq_dataset import ArrayDataset, CSRDataset\n",
      "/Library/Frameworks/Python.framework/Versions/2.7/lib/python2.7/site-packages/sklearn/linear_model/least_angle.py:23: RuntimeWarning: numpy.dtype size changed, may indicate binary incompatibility. Expected 96, got 88\n",
      "  from ..utils import arrayfuncs, as_float_array, check_X_y, deprecated\n",
      "/Library/Frameworks/Python.framework/Versions/2.7/lib/python2.7/site-packages/sklearn/linear_model/coordinate_descent.py:29: RuntimeWarning: numpy.dtype size changed, may indicate binary incompatibility. Expected 96, got 88\n",
      "  from . import cd_fast\n",
      "/Library/Frameworks/Python.framework/Versions/2.7/lib/python2.7/site-packages/sklearn/linear_model/__init__.py:22: RuntimeWarning: numpy.dtype size changed, may indicate binary incompatibility. Expected 96, got 88\n",
      "  from .sgd_fast import Hinge, Log, ModifiedHuber, SquaredLoss, Huber\n",
      "/Library/Frameworks/Python.framework/Versions/2.7/lib/python2.7/site-packages/sklearn/linear_model/sag.py:12: RuntimeWarning: numpy.dtype size changed, may indicate binary incompatibility. Expected 96, got 88\n",
      "  from .sag_fast import sag\n",
      "/Library/Frameworks/Python.framework/Versions/2.7/lib/python2.7/site-packages/sklearn/svm/base.py:8: RuntimeWarning: numpy.dtype size changed, may indicate binary incompatibility. Expected 96, got 88\n",
      "  from . import libsvm, liblinear\n",
      "/Library/Frameworks/Python.framework/Versions/2.7/lib/python2.7/site-packages/sklearn/svm/base.py:9: RuntimeWarning: numpy.dtype size changed, may indicate binary incompatibility. Expected 96, got 88\n",
      "  from . import libsvm_sparse\n",
      "/Library/Frameworks/Python.framework/Versions/2.7/lib/python2.7/site-packages/sklearn/utils/graph.py:15: RuntimeWarning: numpy.dtype size changed, may indicate binary incompatibility. Expected 96, got 88\n",
      "  from .graph_shortest_path import graph_shortest_path  # noqa\n",
      "/Library/Frameworks/Python.framework/Versions/2.7/lib/python2.7/site-packages/sklearn/decomposition/online_lda.py:28: RuntimeWarning: numpy.dtype size changed, may indicate binary incompatibility. Expected 96, got 88\n",
      "  from ._online_lda import (mean_change, _dirichlet_expectation_1d,\n",
      "/Library/Frameworks/Python.framework/Versions/2.7/lib/python2.7/site-packages/sklearn/isotonic.py:12: RuntimeWarning: numpy.dtype size changed, may indicate binary incompatibility. Expected 96, got 88\n",
      "  from ._isotonic import _inplace_contiguous_isotonic_regression, _make_unique\n",
      "/Library/Frameworks/Python.framework/Versions/2.7/lib/python2.7/site-packages/sklearn/manifold/t_sne.py:24: RuntimeWarning: numpy.dtype size changed, may indicate binary incompatibility. Expected 96, got 88\n",
      "  from . import _utils\n",
      "/Library/Frameworks/Python.framework/Versions/2.7/lib/python2.7/site-packages/sklearn/manifold/t_sne.py:25: RuntimeWarning: numpy.dtype size changed, may indicate binary incompatibility. Expected 96, got 88\n",
      "  from . import _barnes_hut_tsne\n",
      "/Library/Frameworks/Python.framework/Versions/2.7/lib/python2.7/site-packages/sklearn/tree/tree.py:40: RuntimeWarning: numpy.dtype size changed, may indicate binary incompatibility. Expected 96, got 88\n",
      "  from ._criterion import Criterion\n",
      "/Library/Frameworks/Python.framework/Versions/2.7/lib/python2.7/site-packages/sklearn/cluster/k_means_.py:35: RuntimeWarning: numpy.dtype size changed, may indicate binary incompatibility. Expected 96, got 88\n",
      "  from . import _k_means\n",
      "/Library/Frameworks/Python.framework/Versions/2.7/lib/python2.7/site-packages/sklearn/cluster/k_means_.py:36: RuntimeWarning: numpy.dtype size changed, may indicate binary incompatibility. Expected 96, got 88\n",
      "  from ._k_means_elkan import k_means_elkan\n",
      "/Library/Frameworks/Python.framework/Versions/2.7/lib/python2.7/site-packages/sklearn/cluster/hierarchical.py:23: RuntimeWarning: numpy.dtype size changed, may indicate binary incompatibility. Expected 96, got 88\n",
      "  from . import _hierarchical\n",
      "/Library/Frameworks/Python.framework/Versions/2.7/lib/python2.7/site-packages/sklearn/cluster/dbscan_.py:19: RuntimeWarning: numpy.dtype size changed, may indicate binary incompatibility. Expected 96, got 88\n",
      "  from ._dbscan_inner import dbscan_inner\n"
     ]
    }
   ],
   "source": [
    "# Can we taste with our eyes?\n",
    "# Qingwei Zhang, Christopher Song, Karen Chen\n",
    "# Analysis script\n",
    "\n",
    "# DATASET INFO\n",
    "# raw: Smeets, et al. (2013) - subj 1\n",
    "\n",
    "import numpy as np\n",
    "from nilearn import datasets, plotting, image, input_data\n",
    "from matplotlib import pyplot as pl\n",
    "%matplotlib inline\n",
    "from sklearn import neighbors, metrics, model_selection\n",
    "from scipy import stats as spst"
   ]
  },
  {
   "cell_type": "code",
   "execution_count": 2,
   "metadata": {},
   "outputs": [
    {
     "name": "stdout",
     "output_type": "stream",
     "text": [
      "anatomical MRI filename: sub-01-anat-sub-01_T1w.nii.gz\n",
      "functional MRI filename: trans_filtered_func_data_3mm.nii.gz\n",
      "amygdala mask filename: sub-01-anat-sub-01_T1w.nii.gz\n"
     ]
    }
   ],
   "source": [
    "#############################################\n",
    "# LOADING DATA ------------------------------\n",
    "#############################################\n",
    "\n",
    "# configuration settings, with print to confirm:\n",
    "#  - fMRI imaging data filename\n",
    "#  - fMRI amygdala mask filename\n",
    "# NOTE: keep script within the same directory as files\n",
    "# refer to project paper for pre-processing details\n",
    "anat_fname = 'sub-01-anat-sub-01_T1w.nii.gz'\n",
    "fmri_fname = 'trans_filtered_func_data_3mm.nii.gz'\n",
    "mask_fname = 'binary-amygdala-mni-sym_3mm_mask.nii.gz'\n",
    "print(\"anatomical MRI filename: \" + anat_fname)\n",
    "print(\"functional MRI filename: \" + fmri_fname)\n",
    "print(\"amygdala mask filename: \" + anat_fname)"
   ]
  },
  {
   "cell_type": "code",
   "execution_count": 3,
   "metadata": {
    "scrolled": false
   },
   "outputs": [
    {
     "name": "stdout",
     "output_type": "stream",
     "text": [
      "fMRI image affine:\n",
      "[[   3.    0.    0.  -90.]\n",
      " [   0.    3.    0. -126.]\n",
      " [   0.    0.    3.  -72.]\n",
      " [   0.    0.    0.    1.]]\n",
      "\n",
      "fMRI image shape:\n",
      "(61, 73, 61, 375)\n",
      "\n",
      "amygdala mask shape:\n",
      "(61, 73, 61)\n"
     ]
    }
   ],
   "source": [
    "# load fMRI data, print original affine and shape\n",
    "# verify mask has same spatial resolution as all images in fMRI series\n",
    "# things to note:\n",
    "#  - all data pre-processed to 3mm fMRI resolution\n",
    "#  - amygdala mask data stripped of low-level metadata, affine, etc.\n",
    "fmri_img = image.load_img(fmri_fname)\n",
    "amyg_mask = image.load_img(mask_fname)#.get_data()\n",
    "\n",
    "print(\"fMRI image affine:\")\n",
    "print(fmri_img.affine)\n",
    "print\n",
    "print(\"fMRI image shape:\")\n",
    "print(fmri_img.shape)\n",
    "print\n",
    "print(\"amygdala mask shape:\")\n",
    "print(amyg_mask.shape)"
   ]
  },
  {
   "cell_type": "code",
   "execution_count": 4,
   "metadata": {
    "scrolled": false
   },
   "outputs": [
    {
     "data": {
      "text/plain": [
       "<nilearn.plotting.displays.OrthoSlicer at 0x12b232e90>"
      ]
     },
     "execution_count": 4,
     "metadata": {},
     "output_type": "execute_result"
    },
    {
     "data": {
      "image/png": "[encoded data removed]",
      "text/plain": [
       "<Figure size 475.2x187.2 with 4 Axes>"
      ]
     },
     "metadata": {},
     "output_type": "display_data"
    }
   ],
   "source": [
    "# plot region-of-interest (ROI)\n",
    "plotting.plot_roi(amyg_mask, bg_img = anat_fname)"
   ]
  },
  {
   "cell_type": "code",
   "execution_count": 5,
   "metadata": {},
   "outputs": [
    {
     "name": "stdout",
     "output_type": "stream",
     "text": [
      "Original whole-brain data shape:\n",
      "(61, 73, 61, 375)\n",
      "\n",
      "After masking:\n",
      "(375, 614)\n"
     ]
    }
   ],
   "source": [
    "# close plot\n",
    "pl.close()\n",
    "\n",
    "# create instance of NiftiMasker for amygdala mask\n",
    "masker = input_data.NiftiMasker(amyg_mask, standardize = True)\n",
    "\n",
    "# apply mask to fMRI data, strip metadata, transform to sample-by-feature\n",
    "fmri_masked = masker.fit_transform(fmri_img)\n",
    "\n",
    "# print dimensions to compare\n",
    "print('Original whole-brain data shape:')\n",
    "print(fmri_img.shape)\n",
    "print\n",
    "print('After masking:')\n",
    "print(fmri_masked.shape)"
   ]
  },
  {
   "cell_type": "code",
   "execution_count": 6,
   "metadata": {},
   "outputs": [
    {
     "name": "stdout",
     "output_type": "stream",
     "text": [
      "Total # samples: n = 375\n",
      "Total # runs: k = 8\n"
     ]
    }
   ],
   "source": [
    "#############################################\n",
    "# DECODING ----------------------------------\n",
    "#############################################\n",
    "\n",
    "lbl_fname = 'labels.txt'\n",
    "\n",
    "# read text file and store labels (category and run) of the samples in two lists\n",
    "n_samples = fmri_img.shape[3]\n",
    "ctgs = []\n",
    "runs = np.zeros(n_samples, dtype=int)\n",
    "\n",
    "# open file/obtain all data (discard first line first)\n",
    "f = open(lbl_fname,'r')\n",
    "f.readline()\n",
    "for iline, line in enumerate(f.readlines()):\n",
    "    (ctg, run) = line.rstrip().split(' ')\n",
    "    ctgs.append(ctg)\n",
    "    runs[iline] = int(run)\n",
    "f.close()\n",
    "\n",
    "# convert to numpy array\n",
    "ctgs = np.asarray(ctgs)\n",
    "print('Total # samples: n = %d' % len(ctgs))\n",
    "print('Total # runs: k = %d' % (np.max(runs) + 1))"
   ]
  },
  {
   "cell_type": "code",
   "execution_count": 7,
   "metadata": {
    "scrolled": true
   },
   "outputs": [
    {
     "name": "stdout",
     "output_type": "stream",
     "text": [
      "Experimental conditions:\n",
      "['break' 'food' 'nonfood']\n",
      "\n",
      "'break' condition has 135 samples.\n",
      "'food' condition has 120 samples.\n",
      "'nonfood' condition has 120 samples.\n",
      "\n",
      "Importantly, the 'food' and 'nonfood' conditions have an equal number of samples.\n",
      "The 'break' condition has more samples than the other two conditions; however,\n",
      "as this condition does not hold useful data, this does not affect the study.\n"
     ]
    }
   ],
   "source": [
    "# experimental conditions + details about them\n",
    "experimentalConditons = np.unique(ctgs)\n",
    "print('Experimental conditions:')\n",
    "print(experimentalConditons)\n",
    "print\n",
    "\n",
    "for ic, cond in enumerate(experimentalConditons):\n",
    "    print('\\'%s\\' condition has %d samples.' % (cond, np.sum(ctgs == cond)))\n",
    "print\n",
    "\n",
    "print('Importantly, the \\'food\\' and \\'nonfood\\' conditions have an equal number of samples.')\n",
    "print('The \\'break\\' condition has more samples than the other two conditions; however,')\n",
    "print('as this condition does not hold useful data, this does not affect the study.')"
   ]
  },
  {
   "cell_type": "code",
   "execution_count": 8,
   "metadata": {},
   "outputs": [
    {
     "name": "stdout",
     "output_type": "stream",
     "text": [
      "Run 0 has 55 samples.\n",
      "Run 1 has 41 samples.\n",
      "Run 2 has 47 samples.\n",
      "Run 3 has 51 samples.\n",
      "Run 4 has 47 samples.\n",
      "Run 5 has 44 samples.\n",
      "Run 6 has 43 samples.\n",
      "Run 7 has 47 samples.\n"
     ]
    }
   ],
   "source": [
    "# number of samples per run\n",
    "for i in range(8):\n",
    "    print('Run %d has %d samples.' % (i, np.sum(runs == i)))"
   ]
  },
  {
   "cell_type": "code",
   "execution_count": 9,
   "metadata": {},
   "outputs": [
    {
     "name": "stdout",
     "output_type": "stream",
     "text": [
      "Original dataset shape:\n",
      "(375, 614)\n",
      "\n",
      "Shape of boolean mask:\n",
      "(375,)\n",
      "\n",
      "Shape of dataset, after removing 'break' data:\n",
      "(240, 614)\n",
      "\n",
      "Total of 2 categories assessed:\n",
      "['food' 'nonfood']\n"
     ]
    }
   ],
   "source": [
    "# create boolean mask to discard all data from 'break' condition\n",
    "lbls_of_the_targ_ctgs = np.asarray([ctg != 'break' for ctg in ctgs])\n",
    "ds = fmri_masked[lbls_of_the_targ_ctgs]\n",
    "targCtgs = ctgs[lbls_of_the_targ_ctgs]\n",
    "targRuns = runs[lbls_of_the_targ_ctgs]\n",
    "\n",
    "print(\"Original dataset shape:\")\n",
    "print(fmri_masked.shape)\n",
    "print\n",
    "\n",
    "print(\"Shape of boolean mask:\")\n",
    "print(lbls_of_the_targ_ctgs.shape)\n",
    "print\n",
    "\n",
    "print(\"Shape of dataset, after removing 'break' data:\")\n",
    "print(ds.shape)\n",
    "print\n",
    "\n",
    "categories = np.unique(targCtgs)\n",
    "n_categories = len(categories)\n",
    "\n",
    "print(\"Total of %s categories assessed:\" % n_categories)\n",
    "print(categories)"
   ]
  },
  {
   "cell_type": "code",
   "execution_count": 10,
   "metadata": {},
   "outputs": [
    {
     "data": {
      "text/plain": [
       "KNeighborsClassifier(algorithm='auto', leaf_size=30, metric='minkowski',\n",
       "           metric_params=None, n_jobs=1, n_neighbors=5, p=2,\n",
       "           weights='uniform')"
      ]
     },
     "execution_count": 10,
     "metadata": {},
     "output_type": "execute_result"
    }
   ],
   "source": [
    "#############################################\n",
    "# CLASSIFICATION ANALYSIS -------------------\n",
    "#############################################\n",
    "\n",
    "# 1. Create classifier\n",
    "\n",
    "# create an instance of the k-NN classifier, with all sklearn default settings\n",
    "clf = neighbors.KNeighborsClassifier()\n",
    "\n",
    "# train classifier on dataset and true labels\n",
    "clf.fit(ds, targCtgs)"
   ]
  },
  {
   "cell_type": "code",
   "execution_count": 11,
   "metadata": {},
   "outputs": [
    {
     "name": "stdout",
     "output_type": "stream",
     "text": [
      "240 predictions made:\n",
      "\n",
      "Prediction     Actual         \n",
      "---------------------------\n",
      "food           food           \n",
      "food           food           \n",
      "nonfood        food           \n",
      "food           food           \n",
      "food           food           \n",
      "food           food           \n",
      "food           food           \n",
      "food           food           \n",
      "food           food           \n",
      "food           food           \n",
      "food           food           \n",
      "nonfood        food           \n",
      "food           food           \n",
      "food           food           \n",
      "food           food           \n",
      "nonfood        nonfood        \n",
      "nonfood        nonfood        \n",
      "nonfood        nonfood        \n",
      "nonfood        nonfood        \n",
      "food           nonfood        \n",
      "nonfood        nonfood        \n",
      "nonfood        nonfood        \n",
      "nonfood        nonfood        \n",
      "nonfood        nonfood        \n",
      "nonfood        nonfood        \n",
      "nonfood        nonfood        \n",
      "nonfood        nonfood        \n",
      "nonfood        nonfood        \n",
      "nonfood        nonfood        \n",
      "nonfood        nonfood        \n",
      "food           food           \n",
      "food           food           \n",
      "food           food           \n",
      "food           food           \n",
      "food           food           \n",
      "nonfood        food           \n",
      "food           food           \n",
      "food           food           \n",
      "food           food           \n",
      "food           food           \n",
      "food           food           \n",
      "food           food           \n",
      "food           food           \n",
      "food           food           \n",
      "food           food           \n",
      "nonfood        nonfood        \n",
      "nonfood        nonfood        \n",
      "nonfood        nonfood        \n",
      "nonfood        nonfood        \n",
      "nonfood        nonfood        \n",
      "nonfood        nonfood        \n",
      "nonfood        nonfood        \n",
      "nonfood        nonfood        \n",
      "nonfood        nonfood        \n",
      "nonfood        nonfood        \n",
      "food           nonfood        \n",
      "nonfood        nonfood        \n",
      "nonfood        nonfood        \n",
      "nonfood        nonfood        \n",
      "nonfood        nonfood        \n",
      "food           food           \n",
      "nonfood        food           \n",
      "food           food           \n",
      "food           food           \n",
      "food           food           \n",
      "nonfood        food           \n",
      "nonfood        food           \n",
      "food           food           \n",
      "food           food           \n",
      "food           food           \n",
      "food           food           \n",
      "food           food           \n",
      "food           food           \n",
      "food           food           \n",
      "food           food           \n",
      "nonfood        nonfood        \n",
      "nonfood        nonfood        \n",
      "nonfood        nonfood        \n",
      "nonfood        nonfood        \n",
      "nonfood        nonfood        \n",
      "nonfood        nonfood        \n",
      "nonfood        nonfood        \n",
      "nonfood        nonfood        \n",
      "nonfood        nonfood        \n",
      "food           nonfood        \n",
      "nonfood        nonfood        \n",
      "nonfood        nonfood        \n",
      "food           nonfood        \n",
      "nonfood        nonfood        \n",
      "food           nonfood        \n",
      "food           food           \n",
      "food           food           \n",
      "food           food           \n",
      "food           food           \n",
      "food           food           \n",
      "food           food           \n",
      "food           food           \n",
      "food           food           \n",
      "food           food           \n",
      "food           food           \n",
      "food           food           \n",
      "food           food           \n",
      "food           food           \n",
      "food           food           \n",
      "food           food           \n",
      "nonfood        nonfood        \n",
      "nonfood        nonfood        \n",
      "food           nonfood        \n",
      "nonfood        nonfood        \n",
      "food           nonfood        \n",
      "nonfood        nonfood        \n",
      "nonfood        nonfood        \n",
      "nonfood        nonfood        \n",
      "nonfood        nonfood        \n",
      "nonfood        nonfood        \n",
      "nonfood        nonfood        \n",
      "nonfood        nonfood        \n",
      "nonfood        nonfood        \n",
      "nonfood        nonfood        \n",
      "nonfood        nonfood        \n",
      "nonfood        food           \n",
      "food           food           \n",
      "food           food           \n",
      "food           food           \n",
      "food           food           \n",
      "food           food           \n",
      "nonfood        food           \n",
      "nonfood        food           \n",
      "food           food           \n",
      "nonfood        food           \n",
      "food           food           \n",
      "food           food           \n",
      "food           food           \n",
      "food           food           \n",
      "food           food           \n",
      "food           nonfood        \n",
      "nonfood        nonfood        \n",
      "nonfood        nonfood        \n",
      "nonfood        nonfood        \n",
      "nonfood        nonfood        \n",
      "food           nonfood        \n",
      "nonfood        nonfood        \n",
      "food           nonfood        \n",
      "food           nonfood        \n",
      "nonfood        nonfood        \n",
      "food           nonfood        \n",
      "food           nonfood        \n",
      "nonfood        nonfood        \n",
      "food           nonfood        \n",
      "nonfood        nonfood        \n",
      "food           food           \n",
      "food           food           \n",
      "nonfood        food           \n",
      "food           food           \n",
      "food           food           \n",
      "nonfood        food           \n",
      "food           food           \n",
      "food           food           \n",
      "food           food           \n",
      "food           food           \n",
      "food           food           \n",
      "food           food           \n",
      "food           food           \n",
      "nonfood        food           \n",
      "nonfood        food           \n",
      "nonfood        nonfood        \n",
      "nonfood        nonfood        \n",
      "nonfood        nonfood        \n",
      "nonfood        nonfood        \n",
      "nonfood        nonfood        \n",
      "nonfood        nonfood        \n",
      "nonfood        nonfood        \n",
      "nonfood        nonfood        \n",
      "nonfood        nonfood        \n",
      "nonfood        nonfood        \n",
      "nonfood        nonfood        \n",
      "nonfood        nonfood        \n",
      "nonfood        nonfood        \n",
      "nonfood        nonfood        \n",
      "nonfood        nonfood        \n",
      "nonfood        food           \n",
      "food           food           \n",
      "food           food           \n",
      "food           food           \n",
      "nonfood        food           \n",
      "food           food           \n",
      "food           food           \n",
      "food           food           \n",
      "food           food           \n",
      "food           food           \n",
      "food           food           \n",
      "food           food           \n",
      "food           food           \n",
      "food           food           \n",
      "food           food           \n",
      "nonfood        nonfood        \n",
      "nonfood        nonfood        \n",
      "food           nonfood        \n",
      "nonfood        nonfood        \n",
      "food           nonfood        \n",
      "food           nonfood        \n",
      "food           nonfood        \n",
      "nonfood        nonfood        \n",
      "nonfood        nonfood        \n",
      "food           nonfood        \n",
      "nonfood        nonfood        \n",
      "nonfood        nonfood        \n",
      "nonfood        nonfood        \n",
      "nonfood        nonfood        \n",
      "nonfood        nonfood        \n",
      "food           food           \n",
      "nonfood        food           \n",
      "food           food           \n",
      "food           food           \n",
      "food           food           \n",
      "food           food           \n",
      "food           food           \n",
      "food           food           \n",
      "food           food           \n",
      "food           food           \n",
      "food           food           \n",
      "nonfood        food           \n",
      "food           food           \n",
      "nonfood        food           \n",
      "nonfood        food           \n",
      "nonfood        nonfood        \n",
      "nonfood        nonfood        \n",
      "nonfood        nonfood        \n",
      "nonfood        nonfood        \n",
      "food           nonfood        \n",
      "nonfood        nonfood        \n",
      "food           nonfood        \n",
      "nonfood        nonfood        \n",
      "nonfood        nonfood        \n",
      "nonfood        nonfood        \n",
      "nonfood        nonfood        \n",
      "nonfood        nonfood        \n",
      "nonfood        nonfood        \n",
      "nonfood        nonfood        \n",
      "nonfood        nonfood        \n",
      "\n",
      "Accuracy on this dataset (not very meaningful, as it is specific to this dataset):\n",
      "0.8291666666666667\n"
     ]
    }
   ],
   "source": [
    "# calculate predictions\n",
    "lbls_pred = clf.predict(ds)\n",
    "\n",
    "# print out predictions vs. actual in a nice table\n",
    "print(\"%s predictions made:\" % len(lbls_pred))\n",
    "print\n",
    "print('{:15s}{:15s}'.format('Prediction','Actual'))\n",
    "print('---------------------------')\n",
    "for d, c in zip(lbls_pred, targCtgs):\n",
    "    print('{:15s}{:15s}'.format(d,c))\n",
    "print\n",
    "\n",
    "# accuracy\n",
    "print('Accuracy on this dataset (not very meaningful, as it is specific to this dataset):')\n",
    "print(metrics.accuracy_score(targCtgs, lbls_pred))"
   ]
  },
  {
   "cell_type": "code",
   "execution_count": 12,
   "metadata": {
    "scrolled": true
   },
   "outputs": [
    {
     "name": "stdout",
     "output_type": "stream",
     "text": [
      "# runs: 8\n",
      "\n",
      "\n",
      "Indices for test values at each CV iteration:\n",
      "\n",
      "0-th CV-fold:\n",
      "[ 0  1  2  3  4  5  6  7  8  9 10 11 12 13 14 15 16 17 18 19 20 21 22 23\n",
      " 24 25 26 27 28 29]\n",
      "\n",
      "1-th CV-fold:\n",
      "[30 31 32 33 34 35 36 37 38 39 40 41 42 43 44 45 46 47 48 49 50 51 52 53\n",
      " 54 55 56 57 58 59]\n",
      "\n",
      "2-th CV-fold:\n",
      "[60 61 62 63 64 65 66 67 68 69 70 71 72 73 74 75 76 77 78 79 80 81 82 83\n",
      " 84 85 86 87 88 89]\n",
      "\n",
      "3-th CV-fold:\n",
      "[ 90  91  92  93  94  95  96  97  98  99 100 101 102 103 104 105 106 107\n",
      " 108 109 110 111 112 113 114 115 116 117 118 119]\n",
      "\n",
      "4-th CV-fold:\n",
      "[120 121 122 123 124 125 126 127 128 129 130 131 132 133 134 135 136 137\n",
      " 138 139 140 141 142 143 144 145 146 147 148 149]\n",
      "\n",
      "5-th CV-fold:\n",
      "[150 151 152 153 154 155 156 157 158 159 160 161 162 163 164 165 166 167\n",
      " 168 169 170 171 172 173 174 175 176 177 178 179]\n",
      "\n",
      "6-th CV-fold:\n",
      "[180 181 182 183 184 185 186 187 188 189 190 191 192 193 194 195 196 197\n",
      " 198 199 200 201 202 203 204 205 206 207 208 209]\n",
      "\n",
      "7-th CV-fold:\n",
      "[210 211 212 213 214 215 216 217 218 219 220 221 222 223 224 225 226 227\n",
      " 228 229 230 231 232 233 234 235 236 237 238 239]\n",
      "\n"
     ]
    }
   ],
   "source": [
    "# 2. Apply leave-one-run-out cross-validation (LOOCV)\n",
    "\n",
    "# create an instance of the LOOCV class\n",
    "cv = model_selection.LeaveOneGroupOut()\n",
    "print('# runs: %s' % cv.get_n_splits(ds, targCtgs, groups = runs))\n",
    "print\n",
    "print\n",
    "\n",
    "# print indices for test sets at each iteration of CV\n",
    "print(\"Indices for test values at each CV iteration:\")\n",
    "print\n",
    "for iFold, (id_trainSet, id_testSet) in enumerate(cv.split(ds, targCtgs, groups = targRuns)):\n",
    "    print(\"%d-th CV-fold:\" % iFold)\n",
    "    print(id_testSet)\n",
    "    print"
   ]
  },
  {
   "cell_type": "code",
   "execution_count": 13,
   "metadata": {},
   "outputs": [
    {
     "name": "stdout",
     "output_type": "stream",
     "text": [
      "CV 0-th iteration:\n",
      "training dataset shape: (210, 614)\n",
      "test dataset shape: (30, 614)\n",
      "accuracy: 0.733333,\n",
      "confusion matrix:\n",
      "[[ 9  6]\n",
      " [ 2 13]]\n",
      "\n",
      "CV 1-th iteration:\n",
      "training dataset shape: (210, 614)\n",
      "test dataset shape: (30, 614)\n",
      "accuracy: 0.766667,\n",
      "confusion matrix:\n",
      "[[10  5]\n",
      " [ 2 13]]\n",
      "\n",
      "CV 2-th iteration:\n",
      "training dataset shape: (210, 614)\n",
      "test dataset shape: (30, 614)\n",
      "accuracy: 0.633333,\n",
      "confusion matrix:\n",
      "[[ 9  6]\n",
      " [ 5 10]]\n",
      "\n",
      "CV 3-th iteration:\n",
      "training dataset shape: (210, 614)\n",
      "test dataset shape: (30, 614)\n",
      "accuracy: 0.733333,\n",
      "confusion matrix:\n",
      "[[14  1]\n",
      " [ 7  8]]\n",
      "\n",
      "CV 4-th iteration:\n",
      "training dataset shape: (210, 614)\n",
      "test dataset shape: (30, 614)\n",
      "accuracy: 0.566667,\n",
      "confusion matrix:\n",
      "[[12  3]\n",
      " [10  5]]\n",
      "\n",
      "CV 5-th iteration:\n",
      "training dataset shape: (210, 614)\n",
      "test dataset shape: (30, 614)\n",
      "accuracy: 0.700000,\n",
      "confusion matrix:\n",
      "[[ 9  6]\n",
      " [ 3 12]]\n",
      "\n",
      "CV 6-th iteration:\n",
      "training dataset shape: (210, 614)\n",
      "test dataset shape: (30, 614)\n",
      "accuracy: 0.466667,\n",
      "confusion matrix:\n",
      "[[6 9]\n",
      " [7 8]]\n",
      "\n",
      "CV 7-th iteration:\n",
      "training dataset shape: (210, 614)\n",
      "test dataset shape: (30, 614)\n",
      "accuracy: 0.500000,\n",
      "confusion matrix:\n",
      "[[6 9]\n",
      " [6 9]]\n",
      "\n"
     ]
    }
   ],
   "source": [
    "# get sample indices of the training/test datasets of each CV iteration\n",
    "\n",
    "# confusion matrix to keep track of results\n",
    "confMat = np.zeros((n_categories, n_categories))\n",
    "accuracies = []\n",
    "\n",
    "for icv, (id_trainSet, id_testSet) in enumerate(cv.split(ds, targCtgs, targRuns)):\n",
    "    print('CV %d-th iteration:' % icv)\n",
    "    \n",
    "    # use indices to get training/test sets from dataset\n",
    "    trainSet = ds[id_trainSet]\n",
    "    testSet = ds[id_testSet]\n",
    "    print('training dataset shape: %s' % (trainSet.shape,))\n",
    "    print('test dataset shape: %s' % (testSet.shape,))\n",
    "    \n",
    "    # use indices to get sample labels for training/test sets\n",
    "    lbl_train = targCtgs[id_trainSet]\n",
    "    lbl_true = targCtgs[id_testSet]\n",
    "    \n",
    "    # use fit, predict functions of our classifier\n",
    "    clf.fit(trainSet, lbl_train)\n",
    "    lbl_pred = clf.predict(testSet)\n",
    "    \n",
    "    # calculate accuracy, add to accuracies array to keep track\n",
    "    acc = metrics.accuracy_score(lbl_true, lbl_pred)\n",
    "    accuracies.append(acc)\n",
    "    print('accuracy: %f,' % acc)\n",
    "\n",
    "    # confusion matrix\n",
    "    cm = metrics.confusion_matrix(lbl_true, lbl_pred, categories)\n",
    "    print('confusion matrix:')\n",
    "    print(cm)\n",
    "    confMat = confMat + cm\n",
    "    print"
   ]
  },
  {
   "cell_type": "code",
   "execution_count": 14,
   "metadata": {},
   "outputs": [
    {
     "name": "stdout",
     "output_type": "stream",
     "text": [
      "Overall confusion matrix:\n"
     ]
    },
    {
     "data": {
      "image/png": "[encoded data removed]",
      "text/plain": [
       "<Figure size 288x288 with 2 Axes>"
      ]
     },
     "metadata": {},
     "output_type": "display_data"
    },
    {
     "name": "stdout",
     "output_type": "stream",
     "text": [
      "Total sum of all confusion matrix elements: 240.0\n"
     ]
    }
   ],
   "source": [
    "# overall confusion matrix visualization\n",
    "print('Overall confusion matrix:')\n",
    "pl.matshow(confMat)\n",
    "pl.colorbar()\n",
    "pl.xticks(range(n_categories), categories, rotation=90)\n",
    "pl.yticks(range(n_categories), categories)\n",
    "pl.xlabel('Predicted label')\n",
    "pl.ylabel('True label')\n",
    "pl.show()\n",
    "\n",
    "print('Total sum of all confusion matrix elements: %s' % np.sum(confMat))"
   ]
  },
  {
   "cell_type": "code",
   "execution_count": 15,
   "metadata": {},
   "outputs": [
    {
     "name": "stdout",
     "output_type": "stream",
     "text": [
      "Probability of accurate classification by chance (\"on accident\"): 0.5\n",
      "Mean accuracy: 0.6375 +/- 0.1073\n",
      "\n",
      "Notably, the mean accuracy of our model appears to be higher than chance.\n"
     ]
    }
   ],
   "source": [
    "pl.close()\n",
    "\n",
    "# calculate chance level\n",
    "chanceLevel = 1./n_categories\n",
    "print('Probability of accurate classification by chance (\\\"on accident\\\"): %s' % chanceLevel)\n",
    "\n",
    "# calculate mean accuracy of all CV iterations\n",
    "print('Mean accuracy: %.4f +/- %.4f' % (np.mean(accuracies),np.std(accuracies)))\n",
    "print\n",
    "\n",
    "print('Notably, the mean accuracy of our model appears to be higher than chance.')"
   ]
  },
  {
   "cell_type": "code",
   "execution_count": 17,
   "metadata": {},
   "outputs": [
    {
     "name": "stdout",
     "output_type": "stream",
     "text": [
      "One-sample t-test:\n",
      "  t = 3.3908\n",
      "  p-value (two-tailed) = 0.01158630\n"
     ]
    }
   ],
   "source": [
    "# 3. Conduct tests for statistical significance\n",
    "\n",
    "#  a) one-sample t-test\n",
    "print('One-sample t-test:')\n",
    "\n",
    "# calculate t- and p-values\n",
    "tvalue, pvalue = spst.ttest_1samp(accuracies, 0.5)\n",
    "print('  t = %.4f' % tvalue)\n",
    "print('  p-value (two-tailed) = %.8f' % pvalue)"
   ]
  },
  {
   "cell_type": "code",
   "execution_count": 18,
   "metadata": {},
   "outputs": [
    {
     "name": "stdout",
     "output_type": "stream",
     "text": [
      "Binomial test:\n",
      "  153 correct classifications out of 240\n",
      "  p-value (binomial) = 0.00002437\n",
      "\n",
      "Sum of each column:\n",
      "[117. 123.]\n",
      "Sum of each row:\n",
      "[120. 120.]\n"
     ]
    }
   ],
   "source": [
    "#  b) binomial test\n",
    "print('Binomial test:')\n",
    "\n",
    "# obtain number of successful classifications from confusion matrix values\n",
    "# sum of diagonals = correct classifications\n",
    "# sum of all = total # samples\n",
    "n_success = np.sum(np.diag(confMat))\n",
    "n_total = np.sum(confMat)\n",
    "\n",
    "# calculate binomial value\n",
    "bino_p = spst.binom_test(n_success, n_total)\n",
    "print('  %d correct classifications out of %d' % (n_success, n_total))\n",
    "print('  p-value (binomial) = %.8f' % bino_p)\n",
    "print\n",
    "\n",
    "print('Sum of each column:')\n",
    "print np.sum(confMat, axis = 0)\n",
    "print('Sum of each row:')\n",
    "print np.sum(confMat, axis = 1)"
   ]
  },
  {
   "cell_type": "code",
   "execution_count": 19,
   "metadata": {},
   "outputs": [
    {
     "name": "stdout",
     "output_type": "stream",
     "text": [
      "Permutation (unparametric) test:\n",
      "  CV 0-th iter: accuracy = 0.366667\n",
      "  CV 1-th iter: accuracy = 0.533333\n",
      "  CV 2-th iter: accuracy = 0.566667\n",
      "  CV 3-th iter: accuracy = 0.433333\n",
      "  CV 4-th iter: accuracy = 0.433333\n",
      "  CV 5-th iter: accuracy = 0.533333\n",
      "  CV 6-th iter: accuracy = 0.566667\n",
      "  CV 7-th iter: accuracy = 0.533333\n",
      "\n",
      "  Mean random accuracy: 0.4958 +/- 0.0696\n"
     ]
    }
   ],
   "source": [
    "#  c) permutation test (unparametric)\n",
    "print('Permutation (unparametric) test:')\n",
    "\n",
    "# calculate empirical null distribution by permuting category labels\n",
    "lbls_random = np.random.permutation(targCtgs)\n",
    "\n",
    "# perform same clf analysis using random labels\n",
    "# output accuracy should be random\n",
    "accuracies_random = []\n",
    "for icv, (id_trainSet, id_testSet) in enumerate(cv.split(ds, lbls_random, targRuns)):\n",
    "    # same training/test sets\n",
    "    trainSet = ds[id_trainSet]\n",
    "    testSet = ds[id_testSet]\n",
    "\n",
    "    # randomly ordered labels\n",
    "    lbl_train = lbls_random[id_trainSet]\n",
    "    lbl_true = lbls_random[id_testSet]\n",
    "\n",
    "    # same fit/predict functions of previous classifier\n",
    "    clf.fit(trainSet, lbl_train)\n",
    "    lbl_pred = clf.predict(testSet)\n",
    "\n",
    "    # calculate accuracy, keep track of each accuracy\n",
    "    acc = metrics.accuracy_score(lbl_true, lbl_pred)\n",
    "    accuracies_random.append(acc)\n",
    "    print('  CV %d-th iter: accuracy = %f' % (icv, acc))\n",
    "print\n",
    "\n",
    "# mean random accuracy\n",
    "print('  Mean random accuracy: %.4f +/- %.4f' % (np.mean(accuracies_random),np.std(accuracies_random)))"
   ]
  },
  {
   "cell_type": "code",
   "execution_count": 20,
   "metadata": {},
   "outputs": [
    {
     "name": "stdout",
     "output_type": "stream",
     "text": [
      "Generating empirical distribution\n",
      "  repeating above CV 100 times...\n",
      "\n",
      "  CV 0-th iter: mean accuracy = 0.4958\n",
      "  CV 10-th iter: mean accuracy = 0.5208\n",
      "  CV 20-th iter: mean accuracy = 0.4583\n",
      "  CV 30-th iter: mean accuracy = 0.5208\n",
      "  CV 40-th iter: mean accuracy = 0.5667\n",
      "  CV 50-th iter: mean accuracy = 0.4625\n",
      "  CV 60-th iter: mean accuracy = 0.5167\n",
      "  CV 70-th iter: mean accuracy = 0.4958\n",
      "  CV 80-th iter: mean accuracy = 0.5042\n",
      "  CV 90-th iter: mean accuracy = 0.4792\n",
      "\n",
      "time elapsed: 0.1005s\n"
     ]
    }
   ],
   "source": [
    "# generate empirical distribution by repeating N times\n",
    "N = 100\n",
    "random_dist = np.zeros(N)\n",
    "print('Generating empirical distribution')\n",
    "print('  repeating above CV %d times...' % N)\n",
    "print\n",
    "\n",
    "# keep track of time, in case it takes too long\n",
    "import time\n",
    "t1 = time.time()\n",
    "\n",
    "# repeat 100 sets of the above CV\n",
    "for it in range(N):\n",
    "    lbls_random = np.random.permutation(targCtgs)\n",
    "    accuracies_random = []\n",
    "    \n",
    "    # exact copy of above cross-validator\n",
    "    for icv, (id_trainSet, id_testSet) in enumerate(cv.split(ds, lbls_random, targRuns)):\n",
    "        # same training/test sets\n",
    "        trainSet = ds[id_trainSet]\n",
    "        testSet = ds[id_testSet]\n",
    "\n",
    "        # randomly ordered labels\n",
    "        lbl_train = lbls_random[id_trainSet]\n",
    "        lbl_true = lbls_random[id_testSet]\n",
    "\n",
    "        # same fit/predict functions of previous classifier\n",
    "        clf.fit(trainSet, lbl_train)\n",
    "        lbl_pred = clf.predict(testSet)\n",
    "\n",
    "        # calculate accuracy, keep track of each accuracy\n",
    "        acc = metrics.accuracy_score(lbl_true, lbl_pred)\n",
    "        accuracies_random.append(acc)\n",
    "    random_dist[it] = np.mean(accuracies_random)\n",
    "    # print mean accuracy every 10 iterations\n",
    "    if np.mod(it, 10)==0:\n",
    "        print('  CV %d-th iter: mean accuracy = %.4f' % (it, random_dist[it]))\n",
    "        \n",
    "t2 = time.time()\n",
    "deltaT = t2-t1\n",
    "\n",
    "print\n",
    "print(\"time elapsed: %.4fs\" % (deltaT/60))"
   ]
  },
  {
   "cell_type": "code",
   "execution_count": 21,
   "metadata": {},
   "outputs": [
    {
     "name": "stdout",
     "output_type": "stream",
     "text": [
      "Null distribution:\n"
     ]
    },
    {
     "data": {
      "image/png": "[encoded data removed]",
      "text/plain": [
       "<Figure size 432x288 with 1 Axes>"
      ]
     },
     "metadata": {},
     "output_type": "display_data"
    },
    {
     "name": "stdout",
     "output_type": "stream",
     "text": [
      "As expected, the null distribution appears to be a normal-like distribution centered at 0.5.\n",
      "Notably, our real mean accuracy (shown by the red diamond) is far greater than the null distribution mean.\n",
      "\n",
      "p-value (permutation): 0.000000\n",
      "\n",
      "Also notably, our permutation p-value is 0. This means that none of the accuracies generated during these\n",
      "100 iterations was greater than our real mean accuracy. This suggests a very statistically significant\n",
      "probability that our achieved accuracy was not due to chance.\n"
     ]
    }
   ],
   "source": [
    "# plot null distribution\n",
    "print('Null distribution:')\n",
    "pl.hist(random_dist,bins=40)\n",
    "\n",
    "# calculate, plot real accuracy\n",
    "real_acc = np.mean(accuracies)\n",
    "pl.plot(real_acc,.5,'rD')\n",
    "pl.show()\n",
    "print('As expected, the null distribution appears to be a normal-like distribution centered at 0.5.')\n",
    "print('Notably, our real mean accuracy (shown by the red diamond) is far greater than the null distribution mean.')\n",
    "print\n",
    "\n",
    "# calculate permutation p-value\n",
    "# (%age of times nonsense accuracy > actual accuracy)\n",
    "print('p-value (permutation): %f' % (np.sum(random_dist > real_acc) / (1. * N)))\n",
    "print\n",
    "\n",
    "print('Also notably, our permutation p-value is 0. This means that none of the accuracies generated during these')\n",
    "print('%d iterations was greater than our real mean accuracy. This suggests a very statistically significant' % N)\n",
    "print('probability that our achieved accuracy was not due to chance.')"
   ]
  },
  {
   "cell_type": "code",
   "execution_count": 22,
   "metadata": {},
   "outputs": [],
   "source": [
    "pl.close()"
   ]
  }
 ],
 "metadata": {
  "kernelspec": {
   "display_name": "Python 3",
   "language": "python",
   "name": "python3"
  },
  "language_info": {
   "codemirror_mode": {
    "name": "ipython",
    "version": 3
   },
   "file_extension": ".py",
   "mimetype": "text/x-python",
   "name": "python",
   "nbconvert_exporter": "python",
   "pygments_lexer": "ipython3",
   "version": "3.6.5"
  }
 },
 "nbformat": 4,
 "nbformat_minor": 2
}
